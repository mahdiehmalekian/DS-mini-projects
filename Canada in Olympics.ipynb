{
 "cells": [
  {
   "cell_type": "markdown",
   "metadata": {},
   "source": [
    "# Canada's Performance in Olympic in 60 years\n",
    "\n",
    "\n",
    "Three different criteria for determining rank of countries in Olympic have been used to study the overall trend of Canada's performance in Olympic from 1960 to the date, both in summer games and in winter games. The first criteria is the total number of gold medals, which is usually used to determine the official rank of countries in Olympic games. The second criteria is the total number of medals, and the third criteria is the total number of medals per capita. "
   ]
  },
  {
   "cell_type": "code",
   "execution_count": 1,
   "metadata": {},
   "outputs": [],
   "source": [
    "import numpy as np\n",
    "import pandas as pd\n",
    "import matplotlib.pyplot as plt\n",
    "import requests"
   ]
  },
  {
   "cell_type": "markdown",
   "metadata": {},
   "source": [
    "**`athlete_events.csv`** dataset is taken from https://www.kaggle.com/heesoo37/120-years-of-olympic-history-athletes-and-results/version/2. It contains information about athletes competing in Olympic Games from 1896 to 2016. The medals table for Olympics 1960 to 2016 is derived from this dataset."
   ]
  },
  {
   "cell_type": "code",
   "execution_count": 2,
   "metadata": {},
   "outputs": [
    {
     "name": "stderr",
     "output_type": "stream",
     "text": [
      "<ipython-input-2-3b3ec34ee730>:12: SettingWithCopyWarning: \n",
      "A value is trying to be set on a copy of a slice from a DataFrame\n",
      "\n",
      "See the caveats in the documentation: https://pandas.pydata.org/pandas-docs/stable/user_guide/indexing.html#returning-a-view-versus-a-copy\n",
      "  df.NOC[df.NOC=='GDR']='GER'\n",
      "<ipython-input-2-3b3ec34ee730>:14: SettingWithCopyWarning: \n",
      "A value is trying to be set on a copy of a slice from a DataFrame\n",
      "\n",
      "See the caveats in the documentation: https://pandas.pydata.org/pandas-docs/stable/user_guide/indexing.html#returning-a-view-versus-a-copy\n",
      "  df.Team[df.Team=='East Germany']='Germany'\n"
     ]
    }
   ],
   "source": [
    "df=pd.read_csv('athlete_events.csv')\n",
    "df.dropna(subset=['Medal'],inplace=True)\n",
    "columns_to_keep=['Team', 'NOC', 'Games',\n",
    "       'Year', 'Season', 'Sport', 'Event', 'Medal']\n",
    "df= df[columns_to_keep]\n",
    "\n",
    "# We have population info for after 1960 and pop. info makes no sense for Individual Olympic Athletes (with NOC 'IOA')\n",
    "df=df[(df.Year>=1960)&(df.NOC !='IOA')]\n",
    "\n",
    "#Unify the two Germanies, as the population data is cumulative for the two\n",
    "df.NOC[df.NOC=='FRG']='GER'\n",
    "df.NOC[df.NOC=='GDR']='GER'\n",
    "df.Team[df.Team=='West Germany']='Germany'\n",
    "df.Team[df.Team=='East Germany']='Germany'\n",
    "# 1906 olympics is not recognized\n",
    "#df=df[df.Year!= 1906]\n",
    "unique=['Team','Games','Sport','Event']\n",
    "df = df.set_index(unique)\n",
    "df.reset_index(inplace=True)\n",
    "df.drop_duplicates(inplace=True)\n",
    "del df['Sport']\n",
    "del df['Event']\n",
    "del df['Year']\n",
    "del df['Season']"
   ]
  },
  {
   "cell_type": "markdown",
   "metadata": {},
   "source": [
    "# Medals Table:"
   ]
  },
  {
   "cell_type": "code",
   "execution_count": 3,
   "metadata": {},
   "outputs": [],
   "source": [
    "medals_table = df.groupby(['Games','NOC', 'Medal'],as_index=False).size()\n",
    "\n",
    "medals_table = (medals_table.pivot_table(index=['Games', 'NOC'],columns=['Medal']).\n",
    "            fillna(0).\n",
    "            astype(int).\n",
    "            droplevel(0,axis=1))\n",
    "\n",
    "medals_table.columns.name = None\n",
    "medals_table.reset_index(inplace=True)\n",
    "medals_table = medals_table[['Games','NOC','Gold','Silver', 'Bronze']]\n",
    "medals_table['Total']=medals_table.loc[:,'Gold':'Bronze'].sum(axis=1)"
   ]
  },
  {
   "cell_type": "markdown",
   "metadata": {},
   "source": [
    "Medals table for Olympic 2018 and 2020 is taken from Wikipedia."
   ]
  },
  {
   "cell_type": "code",
   "execution_count": 4,
   "metadata": {},
   "outputs": [],
   "source": [
    "url='https://en.wikipedia.org/wiki/2018_Winter_Olympics_medal_table'\n",
    "html = requests.get(url).content\n",
    "df_list = pd.read_html(html)\n",
    "df_2018 = df_list[2]\n",
    "df_2018.rename(columns={'.mw-parser-output .tooltip-dotted{border-bottom:1px dotted;cursor:help}NOC':'Team'},inplace=True)\n",
    "del df_2018['Rank']\n",
    "df_2018['Games']='2018 Winter'\n",
    "\n",
    "url=\"https://en.wikipedia.org/wiki/2020_Summer_Olympics_medal_table\"\n",
    "html = requests.get(url).content\n",
    "df_list = pd.read_html(html)\n",
    "df_2020 = df_list[2]\n",
    "del df_2020['Rank']\n",
    "df_2020['Games']='2020 Summer'\n",
    "\n",
    "\n",
    "pattern=\"([\\w\\s]*)(?:\\s\\()(\\w{3})(?:.*)\"\n",
    "for df_recent in [df_2018, df_2020]:\n",
    "    country_noc = df_recent['Team'].str.extract(pattern).dropna()\n",
    "    df_recent['Team'], df_recent['NOC'] = country_noc[0], country_noc[1]\n",
    "    #df_recent['NOC'] = country_noc[1]\n",
    "    #df_recent.drop(columns=['Team'], inplace=True)\n",
    "    df_recent.dropna(inplace=True)\n",
    "    #df_recent=df_recent[['Games','NOC','Gold','Silver', 'Bronze','Total']] #seems to not be working. Why?!\n",
    "df_2018=df_2018[['Games','NOC','Gold','Silver', 'Bronze','Total','Team']]\n",
    "df_2020=df_2020[['Games','NOC','Gold','Silver', 'Bronze','Total','Team']]"
   ]
  },
  {
   "cell_type": "code",
   "execution_count": 5,
   "metadata": {},
   "outputs": [],
   "source": [
    "medals_table = (medals_table.append(df_2018.loc[:,'Games':'Total'],ignore_index=True).\n",
    "                append(df_2020.loc[:,'Games':'Total'],ignore_index=True))"
   ]
  },
  {
   "cell_type": "code",
   "execution_count": 6,
   "metadata": {},
   "outputs": [],
   "source": [
    "def find_rank(df):\n",
    "    df['Official_Rank']=df['tuple'].rank(method='min',ascending=False).astype(int)\n",
    "    df['Rank_total_medals']=(df['Total']).rank(method='min',ascending=False).astype(int)\n",
    "    return df\n",
    "\n",
    "medals_table['tuple']=medals_table[['Gold', 'Silver', 'Bronze']].apply(tuple,axis=1)\n",
    "medals_table = medals_table.groupby('Games').apply(find_rank)\n",
    "del medals_table['tuple']"
   ]
  },
  {
   "cell_type": "code",
   "execution_count": 7,
   "metadata": {},
   "outputs": [],
   "source": [
    "medals_table.to_csv('Olympics-medals-table 1960-2020.csv')"
   ]
  },
  {
   "cell_type": "markdown",
   "metadata": {},
   "source": [
    "# Population of Countries"
   ]
  },
  {
   "cell_type": "markdown",
   "metadata": {},
   "source": [
    "**`world-population.csv`** is taken from https://data.worldbank.org/indicator/SP.POP.TOTL. It contains the world population by country and year since 1960 to the date."
   ]
  },
  {
   "cell_type": "code",
   "execution_count": 8,
   "metadata": {},
   "outputs": [],
   "source": [
    "df_pop=(pd.read_csv('world-population.csv', skiprows=4).\n",
    "        rename(columns={'Country Name':'Country_UN'}))"
   ]
  },
  {
   "cell_type": "markdown",
   "metadata": {},
   "source": [
    "# NOC, country name table"
   ]
  },
  {
   "cell_type": "code",
   "execution_count": 9,
   "metadata": {},
   "outputs": [],
   "source": [
    "noc_country=(df[['NOC','Team']].\n",
    "             append(df_2018[['NOC','Team']],ignore_index=True).\n",
    "             append(df_2020[['NOC','Team']],ignore_index=True).\n",
    "             drop_duplicates().\n",
    "             reset_index(drop=True))\n",
    "\n",
    "             \n",
    "def get_first_team(df):\n",
    "    return df.Team.to_list()[0].split('-')[0]\n",
    "\n",
    "noc_country=(noc_country.\n",
    "             groupby('NOC',as_index=False).\n",
    "             apply(get_first_team).\n",
    "             rename(columns={None: 'Country_olympics'}))"
   ]
  },
  {
   "cell_type": "code",
   "execution_count": 10,
   "metadata": {},
   "outputs": [],
   "source": [
    "countries_list_pop=df_pop['Country_UN'].to_list()\n",
    "\n",
    "def find_country_in_df_pop(x):\n",
    "    for country in countries_list_pop:\n",
    "        if x in country:\n",
    "            countries_list_pop.remove(country)\n",
    "            return country\n",
    "        \n",
    "noc_country['Country_UN']=noc_country['Country_olympics'].apply(find_country_in_df_pop)"
   ]
  },
  {
   "cell_type": "code",
   "execution_count": 11,
   "metadata": {},
   "outputs": [],
   "source": [
    "D={'Great Britain':'United Kingdom', 'United States Virgin Islands':'Virgin Islands (U.S.)',\n",
    "   'Kyrgyzstan':'Kyrgyz Republic','South Korea':'Korea, Rep.', 'North Korea':\"Korea, Dem. People's Rep.\",\n",
    "   'Slovakia':'Slovak Republic','ROC':'Russian Federation', 'Olympic Athletes from Russia':'Russian Federation'}\n",
    "for key,value in D.items():\n",
    "    noc_country.Country_UN[noc_country.Country_olympics==key]=value"
   ]
  },
  {
   "cell_type": "markdown",
   "metadata": {},
   "source": [
    "# Relating Olympics and Population datasets"
   ]
  },
  {
   "cell_type": "code",
   "execution_count": 12,
   "metadata": {},
   "outputs": [
    {
     "data": {
      "text/html": [
       "<div>\n",
       "<style scoped>\n",
       "    .dataframe tbody tr th:only-of-type {\n",
       "        vertical-align: middle;\n",
       "    }\n",
       "\n",
       "    .dataframe tbody tr th {\n",
       "        vertical-align: top;\n",
       "    }\n",
       "\n",
       "    .dataframe thead th {\n",
       "        text-align: right;\n",
       "    }\n",
       "</style>\n",
       "<table border=\"1\" class=\"dataframe\">\n",
       "  <thead>\n",
       "    <tr style=\"text-align: right;\">\n",
       "      <th></th>\n",
       "      <th>NOC</th>\n",
       "      <th>Country_olympics</th>\n",
       "      <th>Country_UN</th>\n",
       "    </tr>\n",
       "  </thead>\n",
       "  <tbody>\n",
       "    <tr>\n",
       "      <th>1</th>\n",
       "      <td>AHO</td>\n",
       "      <td>Netherlands Antilles</td>\n",
       "      <td>None</td>\n",
       "    </tr>\n",
       "    <tr>\n",
       "      <th>38</th>\n",
       "      <td>EUN</td>\n",
       "      <td>Unified Team</td>\n",
       "      <td>None</td>\n",
       "    </tr>\n",
       "    <tr>\n",
       "      <th>105</th>\n",
       "      <td>SCG</td>\n",
       "      <td>Serbia and Montenegro</td>\n",
       "      <td>None</td>\n",
       "    </tr>\n",
       "    <tr>\n",
       "      <th>118</th>\n",
       "      <td>TCH</td>\n",
       "      <td>Czechoslovakia</td>\n",
       "      <td>None</td>\n",
       "    </tr>\n",
       "    <tr>\n",
       "      <th>123</th>\n",
       "      <td>TPE</td>\n",
       "      <td>Chinese Taipei</td>\n",
       "      <td>None</td>\n",
       "    </tr>\n",
       "    <tr>\n",
       "      <th>128</th>\n",
       "      <td>UAR</td>\n",
       "      <td>United Arab Republic</td>\n",
       "      <td>None</td>\n",
       "    </tr>\n",
       "    <tr>\n",
       "      <th>131</th>\n",
       "      <td>URS</td>\n",
       "      <td>Soviet Union</td>\n",
       "      <td>None</td>\n",
       "    </tr>\n",
       "    <tr>\n",
       "      <th>137</th>\n",
       "      <td>WIF</td>\n",
       "      <td>West Indies Federation</td>\n",
       "      <td>None</td>\n",
       "    </tr>\n",
       "    <tr>\n",
       "      <th>138</th>\n",
       "      <td>YUG</td>\n",
       "      <td>Yugoslavia</td>\n",
       "      <td>None</td>\n",
       "    </tr>\n",
       "  </tbody>\n",
       "</table>\n",
       "</div>"
      ],
      "text/plain": [
       "     NOC        Country_olympics Country_UN\n",
       "1    AHO    Netherlands Antilles       None\n",
       "38   EUN            Unified Team       None\n",
       "105  SCG   Serbia and Montenegro       None\n",
       "118  TCH          Czechoslovakia       None\n",
       "123  TPE          Chinese Taipei       None\n",
       "128  UAR    United Arab Republic       None\n",
       "131  URS            Soviet Union       None\n",
       "137  WIF  West Indies Federation       None\n",
       "138  YUG              Yugoslavia       None"
      ]
     },
     "execution_count": 12,
     "metadata": {},
     "output_type": "execute_result"
    }
   ],
   "source": [
    "noc_country[noc_country.Country_UN.isna()]"
   ]
  },
  {
   "cell_type": "markdown",
   "metadata": {},
   "source": [
    "These countries are not listed in world population dataset, so we'll remove them:"
   ]
  },
  {
   "cell_type": "code",
   "execution_count": 13,
   "metadata": {},
   "outputs": [],
   "source": [
    "nocs_deleted = noc_country.NOC[noc_country.Country_UN.isna()].to_list()\n",
    "noc_country.dropna(inplace=True)\n",
    "\n",
    "medals_table = medals_table[~medals_table.NOC.isin(nocs_deleted)]"
   ]
  },
  {
   "cell_type": "code",
   "execution_count": 14,
   "metadata": {},
   "outputs": [],
   "source": [
    "medals_table = medals_table.merge(noc_country[['NOC','Country_UN']],how='left')"
   ]
  },
  {
   "cell_type": "code",
   "execution_count": 15,
   "metadata": {},
   "outputs": [],
   "source": [
    "medals_table.to_csv('Olympics-medals-table 1960-2020.csv')"
   ]
  },
  {
   "cell_type": "code",
   "execution_count": 16,
   "metadata": {},
   "outputs": [],
   "source": [
    "def find_pop(x):\n",
    "    year= x.Games.split(' ')[0]\n",
    "    country=x.Country_UN\n",
    "    return int(df_pop[df_pop['Country_UN']==country][year].values[0])\n",
    "\n",
    "medals_table['Population_mil']=medals_table.apply(find_pop,axis=1)/1000000"
   ]
  },
  {
   "cell_type": "code",
   "execution_count": 17,
   "metadata": {},
   "outputs": [
    {
     "name": "stderr",
     "output_type": "stream",
     "text": [
      "<ipython-input-17-57960128dfd8>:1: UserWarning: Pandas doesn't allow columns to be created via a new attribute name - see https://pandas.pydata.org/pandas-docs/stable/indexing.html#attribute-access\n",
      "  medals_table.Year = medals_table.Games.apply(lambda x:int(x.split(' ')[0]))\n",
      "<ipython-input-17-57960128dfd8>:2: UserWarning: Pandas doesn't allow columns to be created via a new attribute name - see https://pandas.pydata.org/pandas-docs/stable/indexing.html#attribute-access\n",
      "  medals_table.Season = medals_table.Games.apply(lambda x:x.split(' ')[1])\n"
     ]
    }
   ],
   "source": [
    "medals_table.Year = medals_table.Games.apply(lambda x:int(x.split(' ')[0]))\n",
    "medals_table.Season = medals_table.Games.apply(lambda x:x.split(' ')[1])"
   ]
  },
  {
   "cell_type": "code",
   "execution_count": 18,
   "metadata": {},
   "outputs": [],
   "source": [
    "medals_table['Medal_per_capita'] = medals_table['Total']/medals_table['Population_mil']"
   ]
  },
  {
   "cell_type": "code",
   "execution_count": 19,
   "metadata": {},
   "outputs": [],
   "source": [
    "def find_rank_capita(df):\n",
    "    df['Rank_capita']=df['Medal_per_capita'].rank(method='min',ascending=False).astype(int)\n",
    "    return df\n",
    "\n",
    "medals_table=medals_table.groupby('Games').apply(find_rank_capita)"
   ]
  },
  {
   "cell_type": "markdown",
   "metadata": {},
   "source": [
    "# Focus on Canada:"
   ]
  },
  {
   "cell_type": "code",
   "execution_count": 20,
   "metadata": {},
   "outputs": [
    {
     "name": "stderr",
     "output_type": "stream",
     "text": [
      "<ipython-input-20-cca5c9f76b7a>:5: SettingWithCopyWarning: \n",
      "A value is trying to be set on a copy of a slice from a DataFrame\n",
      "\n",
      "See the caveats in the documentation: https://pandas.pydata.org/pandas-docs/stable/user_guide/indexing.html#returning-a-view-versus-a-copy\n",
      "  df_can['Year'][df_can['Season']=='Summer']=df_can['Year'].apply(lambda x: x+' July 10')\n",
      "<ipython-input-20-cca5c9f76b7a>:6: SettingWithCopyWarning: \n",
      "A value is trying to be set on a copy of a slice from a DataFrame\n",
      "\n",
      "See the caveats in the documentation: https://pandas.pydata.org/pandas-docs/stable/user_guide/indexing.html#returning-a-view-versus-a-copy\n",
      "  df_can['Year'][df_can['Season']=='Winter']=df_can['Year'].apply(lambda x: x+' Feb 10')\n"
     ]
    }
   ],
   "source": [
    "df_can= medals_table[['Games','Official_Rank', 'Rank_total_medals','Rank_capita','Medal_per_capita']][medals_table.NOC=='CAN'].reset_index(drop=True)\n",
    "\n",
    "df_can['Season']=df_can['Games'].apply(lambda x:x.split(' ')[1])\n",
    "df_can['Year'] = df_can['Games'].apply(lambda x:x.split(' ')[0])\n",
    "df_can['Year'][df_can['Season']=='Summer']=df_can['Year'].apply(lambda x: x+' July 10')\n",
    "df_can['Year'][df_can['Season']=='Winter']=df_can['Year'].apply(lambda x: x+' Feb 10')\n",
    "df_can['Year']=pd.to_datetime(df_can['Year'])\n",
    "df_can['Medal_per_capita'] *= 50\n",
    "df_can.rename(columns={'Year':'Date', 'Medal_per_capita':'Medal per 20,000'},inplace=True)"
   ]
  },
  {
   "cell_type": "code",
   "execution_count": 21,
   "metadata": {},
   "outputs": [],
   "source": [
    "df_can['Date']=pd.to_datetime(df_can['Date'])"
   ]
  },
  {
   "cell_type": "code",
   "execution_count": 22,
   "metadata": {},
   "outputs": [],
   "source": [
    "df_can.to_csv('Canada in Olympics.csv')"
   ]
  },
  {
   "cell_type": "code",
   "execution_count": 23,
   "metadata": {},
   "outputs": [],
   "source": [
    "df_can_winter=df_can[df_can.Season=='Winter']\n",
    "df_can_summer=df_can[df_can.Season=='Summer']"
   ]
  },
  {
   "cell_type": "code",
   "execution_count": 24,
   "metadata": {},
   "outputs": [],
   "source": [
    "import seaborn as sns"
   ]
  },
  {
   "cell_type": "code",
   "execution_count": 25,
   "metadata": {},
   "outputs": [],
   "source": [
    "import matplotlib.gridspec as gridspec"
   ]
  },
  {
   "cell_type": "code",
   "execution_count": 26,
   "metadata": {},
   "outputs": [
    {
     "data": {
      "image/png": "[encoded data removed]",
      "text/plain": [
       "<Figure size 2160x576 with 3 Axes>"
      ]
     },
     "metadata": {
      "needs_background": "light"
     },
     "output_type": "display_data"
    }
   ],
   "source": [
    "fig=plt.figure(figsize=(30,8));\n",
    "ax1=fig.add_subplot(1,3,1);\n",
    "ax2=fig.add_subplot(1,3,2,sharey=ax1);\n",
    "ax3=fig.add_subplot(1,3,3,sharey=ax1);\n",
    "\n",
    "\n",
    "ax1.plot(df_can_winter['Date'],df_can_winter['Official_Rank'],label='Winter');\n",
    "ax1.plot(df_can_summer['Date'],df_can_summer['Official_Rank'],label='Summer');\n",
    "#ax1.scatter(['1976-07-10', '1988-02-10','2010-02-10'],[26,12,1], color='g', label='Hosted in Canada');\n",
    "ax1.scatter(['1980-07-10'],[15.5], color='r', label=\"Didn't participate\");\n",
    "ax1.set_title(\"By gold medals (Official rank)\");\n",
    "\n",
    "\n",
    "ax2.plot(df_can_winter['Date'],df_can_winter['Rank_total_medals'],label='Winter');\n",
    "ax2.plot(df_can_summer['Date'],df_can_summer['Rank_total_medals'],label='Summer');\n",
    "#ax2.scatter(['1976-07-10', '1988-02-10','2010-02-10'],[26,12,1], color='g', label='Hosted in Canada');\n",
    "ax2.scatter(['1980-07-10'],[7.9], color='r', label=\"Didn't participate\");\n",
    "ax2.set_title(\"By total medals\");\n",
    "\n",
    "\n",
    "ax3.plot(df_can_winter['Date'],df_can_winter['Rank_capita'],label='Winter');\n",
    "ax3.plot(df_can_summer['Date'],df_can_summer['Rank_capita'],label='Summer');\n",
    "ax3.set_title(\"By total medals per capita\");\n",
    "#ax3.scatter(['1976-07-10', '1988-02-10','2010-02-10'],[18,9,8], color='g', label='Hosted in Canada');\n",
    "ax3.scatter(['1980-07-10'],[12], color='r', label=\"Didn't participate\");\n",
    "\n",
    "for ax in [ax1,ax2,ax3]:\n",
    "    ax.spines['top'].set_visible(False)\n",
    "    ax.spines['right'].set_visible(False)\n",
    "    ax.xaxis.set_ticks_position('none') \n",
    "    ax.yaxis.set_ticks_position('none')\n",
    "    if ax in [ax2,ax3]:\n",
    "        ax.spines['left'].set_visible(False)\n",
    "        ax.axes.get_yaxis().set_visible(False)\n",
    "\n",
    "\n",
    "fig.suptitle(\"Canada's rank in Olympic Games\", fontsize=20);\n",
    "\n",
    "# To make one legend for all subplots:\n",
    "handles, labels = ax1.get_legend_handles_labels();\n",
    "fig.legend(handles, labels,);\n",
    "\n",
    "\n",
    "plt.savefig(\"Canada's performance in Olympic\");"
   ]
  },
  {
   "cell_type": "markdown",
   "metadata": {},
   "source": [
    "It is clear from the visual that in Winter games, Canada's rank  has been improving over the years if the applied criteria is the number of gold medals or the total number of medals. However, when the change in Canada's population over the years is taken into account, it is clear that the number of medals per capita have stayed almost steady over the years.\n",
    "\n",
    "As for the Summer Games, it is clear that Canada's performance in the late 70s to early 90s has been substantially better than recent decades, with any of the three criteria. However, if we limit ourselves to the recent 20 years, a trend similar to Winter Games is observed: While the official rank and rank by total number of medals have improved, the rank by number of medals per capita has worsened over the 20-th century."
   ]
  }
 ],
 "metadata": {
  "kernelspec": {
   "display_name": "Python 3",
   "language": "python",
   "name": "python3"
  },
  "language_info": {
   "codemirror_mode": {
    "name": "ipython",
    "version": 3
   },
   "file_extension": ".py",
   "mimetype": "text/x-python",
   "name": "python",
   "nbconvert_exporter": "python",
   "pygments_lexer": "ipython3",
   "version": "3.8.5"
  }
 },
 "nbformat": 4,
 "nbformat_minor": 1
}
